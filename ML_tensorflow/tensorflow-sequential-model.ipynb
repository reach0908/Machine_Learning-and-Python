{
 "cells": [
  {
   "cell_type": "code",
   "execution_count": 1,
   "metadata": {},
   "outputs": [
    {
     "name": "stdout",
     "output_type": "stream",
     "text": [
      "Train on 1000 samples, validate on 100 samples\n",
      "Epoch 1/10\n",
      "1000/1000 [==============================] - 0s 427us/sample - loss: 11.8980 - accuracy: 0.0850 - val_loss: 12.8181 - val_accuracy: 0.1200\n",
      "Epoch 2/10\n",
      "1000/1000 [==============================] - 0s 29us/sample - loss: 16.6027 - accuracy: 0.1030 - val_loss: 24.1227 - val_accuracy: 0.1000\n",
      "Epoch 3/10\n",
      "1000/1000 [==============================] - 0s 28us/sample - loss: 34.8725 - accuracy: 0.0960 - val_loss: 50.9272 - val_accuracy: 0.1000\n",
      "Epoch 4/10\n",
      "1000/1000 [==============================] - 0s 29us/sample - loss: 67.5378 - accuracy: 0.1120 - val_loss: 92.3996 - val_accuracy: 0.0800\n",
      "Epoch 5/10\n",
      "1000/1000 [==============================] - 0s 28us/sample - loss: 113.2013 - accuracy: 0.1070 - val_loss: 146.9765 - val_accuracy: 0.1100\n",
      "Epoch 6/10\n",
      "1000/1000 [==============================] - 0s 29us/sample - loss: 165.5532 - accuracy: 0.1040 - val_loss: 195.5477 - val_accuracy: 0.0700\n",
      "Epoch 7/10\n",
      "1000/1000 [==============================] - 0s 27us/sample - loss: 217.5337 - accuracy: 0.1000 - val_loss: 253.4266 - val_accuracy: 0.0400\n",
      "Epoch 8/10\n",
      "1000/1000 [==============================] - 0s 28us/sample - loss: 269.4976 - accuracy: 0.1020 - val_loss: 289.7870 - val_accuracy: 0.1400\n",
      "Epoch 9/10\n",
      "1000/1000 [==============================] - 0s 29us/sample - loss: 294.4905 - accuracy: 0.0870 - val_loss: 302.9544 - val_accuracy: 0.0900\n",
      "Epoch 10/10\n",
      "1000/1000 [==============================] - 0s 29us/sample - loss: 301.9818 - accuracy: 0.0980 - val_loss: 302.7726 - val_accuracy: 0.1100\n"
     ]
    },
    {
     "data": {
      "text/plain": [
       "<tensorflow.python.keras.callbacks.History at 0x20918fcf6c8>"
      ]
     },
     "execution_count": 1,
     "metadata": {},
     "output_type": "execute_result"
    }
   ],
   "source": [
    "import tensorflow as tf\n",
    "\n",
    "from tensorflow.keras import layers\n",
    "\n",
    "model = tf.keras.Sequential()\n",
    "# Adds a densely-connected layer with 64 units to the model:\n",
    "model.add(layers.Dense(64, activation='relu'))\n",
    "# Add another:\n",
    "model.add(layers.Dense(64, activation='relu'))\n",
    "# Add a softmax layer with 10 output units:\n",
    "model.add(layers.Dense(10, activation='softmax'))\n",
    "#아담옵티마이저 사용, 러닝레이트 = 0.001, loss = , accuracy = 내가 킵하고 싶은 정보(현재 내 머신이 얼마나 잘되고있는지 살펴보려는용도)\n",
    "# accuracy = 프레딕션과 레이블이 얼마나 맞는지\n",
    "model.compile(optimizer=tf.keras.optimizers.Adam(0.001),loss='categorical_crossentropy',metrics=['accuracy'])\n",
    "\n",
    "import numpy as np\n",
    "#천개의 데이터의 크기가 32인벡터\n",
    "data = np.random.random((1000, 32))\n",
    "labels = np.random.random((1000, 10))\n",
    "#validaation data 추가 - 내가 잘 학습되고있는지를 확인할 수 있다.\n",
    "val_data = np.random.random((100, 32))\n",
    "val_labels = np.random.random((100, 10))\n",
    "\n",
    "#트레인시키자, 배치사이즈 = 32개씩가져와라\n",
    "model.fit(data, labels, epochs=10, batch_size=32,validation_data=(val_data, val_labels))\n"
   ]
  },
  {
   "cell_type": "code",
   "execution_count": 7,
   "metadata": {},
   "outputs": [
    {
     "name": "stdout",
     "output_type": "stream",
     "text": [
      "Epoch 1/10\n",
      "WARNING:tensorflow:Layer dense_18 is casting an input tensor from dtype float64 to the layer's dtype of float32, which is new behavior in TensorFlow 2.  The layer has dtype float32 because its dtype defaults to floatx.\n",
      "\n",
      "If you intended to run this layer in float32, you can safely ignore this warning. If in doubt, this warning is likely only an issue if you are porting a TensorFlow 1.X model to TensorFlow 2.\n",
      "\n",
      "To change all layers to have dtype float64 by default, call `tf.keras.backend.set_floatx('float64')`. To change just this layer, pass dtype='float64' to the layer constructor. If you are the author of this layer, you can disable autocasting by passing autocast=False to the base Layer constructor.\n",
      "\n",
      "30/30 [==============================] - 0s 1ms/step - loss: 11.7769 - accuracy: 0.1094\n",
      "Epoch 2/10\n",
      "30/30 [==============================] - 0s 2ms/step - loss: 14.5509 - accuracy: 0.1090\n",
      "Epoch 3/10\n",
      "30/30 [==============================] - 0s 2ms/step - loss: 21.6255 - accuracy: 0.1111\n",
      "Epoch 4/10\n",
      "30/30 [==============================] - 0s 2ms/step - loss: 39.2595 - accuracy: 0.1090\n",
      "Epoch 5/10\n",
      "30/30 [==============================] - 0s 2ms/step - loss: 66.7323 - accuracy: 0.1132\n",
      "Epoch 6/10\n",
      "30/30 [==============================] - 0s 2ms/step - loss: 99.3826 - accuracy: 0.0962\n",
      "Epoch 7/10\n",
      "30/30 [==============================] - 0s 2ms/step - loss: 129.6932 - accuracy: 0.1015\n",
      "Epoch 8/10\n",
      "30/30 [==============================] - 0s 2ms/step - loss: 153.1914 - accuracy: 0.0994\n",
      "Epoch 9/10\n",
      "30/30 [==============================] - 0s 3ms/step - loss: 170.1370 - accuracy: 0.1036\n",
      "Epoch 10/10\n",
      "30/30 [==============================] - 0s 3ms/step - loss: 162.8014 - accuracy: 0.1026\n",
      "4/4 [==============================] - 0s 5ms/step - loss: 149.0237 - accuracy: 0.1200\n"
     ]
    },
    {
     "data": {
      "text/plain": [
       "[149.02365112304688, 0.11999999731779099]"
      ]
     },
     "execution_count": 7,
     "metadata": {},
     "output_type": "execute_result"
    }
   ],
   "source": [
    "import tensorflow as tf\n",
    "\n",
    "from tensorflow.keras import layers\n",
    "\n",
    "model = tf.keras.Sequential()\n",
    "# Adds a densely-connected layer with 64 units to the model:\n",
    "model.add(layers.Dense(64, activation='relu'))\n",
    "# Add another:\n",
    "model.add(layers.Dense(64, activation='relu'))\n",
    "# Add a softmax layer with 10 output units:\n",
    "model.add(layers.Dense(10, activation='softmax'))\n",
    "#아담옵티마이저 사용, 러닝레이트 = 0.001, loss = , accuracy = 내가 킵하고 싶은 정보(현재 내 머신이 얼마나 잘되고있는지 살펴보려는용도)\n",
    "# accuracy = 프레딕션과 레이블이 얼마나 맞는지\n",
    "model.compile(optimizer=tf.keras.optimizers.Adam(0.001),loss='categorical_crossentropy',metrics=['accuracy'])\n",
    "\n",
    "import numpy as np\n",
    "#천개의 데이터의 크기가 32인벡터\n",
    "data = np.random.random((1000, 32))\n",
    "labels = np.random.random((1000, 10))\n",
    "#validaation data 추가 - 내가 잘 학습되고있는지를 확인할 수 있다.\n",
    "val_data = np.random.random((100, 32))\n",
    "val_labels = np.random.random((100, 10))\n",
    "\n",
    "#트레인시키자, 배치사이즈 = 32개씩가져와라\n",
    "# model.fit(data, labels, epochs=10, batch_size=32,validation_data=(val_data, val_labels))\n",
    "\n",
    "dataset = tf.data.Dataset.from_tensor_slices((data, labels))\n",
    "dataset = dataset.batch(32)\n",
    "dataset = dataset.repeat() \n",
    "\n",
    "model.fit(dataset, epochs=10, steps_per_epoch=30)\n",
    "\n",
    "model.evaluate(val_data, val_labels, batch_size=32) "
   ]
  },
  {
   "cell_type": "code",
   "execution_count": 9,
   "metadata": {},
   "outputs": [
    {
     "name": "stdout",
     "output_type": "stream",
     "text": [
      "Epoch 1/10\n",
      "WARNING:tensorflow:Layer dense_24 is casting an input tensor from dtype float64 to the layer's dtype of float32, which is new behavior in TensorFlow 2.  The layer has dtype float32 because its dtype defaults to floatx.\n",
      "\n",
      "If you intended to run this layer in float32, you can safely ignore this warning. If in doubt, this warning is likely only an issue if you are porting a TensorFlow 1.X model to TensorFlow 2.\n",
      "\n",
      "To change all layers to have dtype float64 by default, call `tf.keras.backend.set_floatx('float64')`. To change just this layer, pass dtype='float64' to the layer constructor. If you are the author of this layer, you can disable autocasting by passing autocast=False to the base Layer constructor.\n",
      "\n",
      "32/32 [==============================] - 0s 1ms/step - loss: 12.6091 - accuracy: 0.1210\n",
      "Epoch 2/10\n",
      "32/32 [==============================] - 0s 2ms/step - loss: 18.7375 - accuracy: 0.1010\n",
      "Epoch 3/10\n",
      "32/32 [==============================] - 0s 2ms/step - loss: 28.2562 - accuracy: 0.0960\n",
      "Epoch 4/10\n",
      "32/32 [==============================] - 0s 2ms/step - loss: 40.6909 - accuracy: 0.1050\n",
      "Epoch 5/10\n",
      "32/32 [==============================] - 0s 2ms/step - loss: 54.4900 - accuracy: 0.1030\n",
      "Epoch 6/10\n",
      "32/32 [==============================] - 0s 2ms/step - loss: 68.8815 - accuracy: 0.1140\n",
      "Epoch 7/10\n",
      "32/32 [==============================] - 0s 2ms/step - loss: 85.6610 - accuracy: 0.1030\n",
      "Epoch 8/10\n",
      "32/32 [==============================] - 0s 2ms/step - loss: 99.3055 - accuracy: 0.1170\n",
      "Epoch 9/10\n",
      "32/32 [==============================] - 0s 3ms/step - loss: 105.3667 - accuracy: 0.1010\n",
      "Epoch 10/10\n",
      "32/32 [==============================] - 0s 2ms/step - loss: 94.8328 - accuracy: 0.0990\n",
      "4/4 [==============================] - 0s 3ms/step - loss: 87.9092 - accuracy: 0.0600\n",
      "(1000, 10)\n"
     ]
    }
   ],
   "source": [
    "import tensorflow as tf\n",
    "\n",
    "from tensorflow.keras import layers\n",
    "\n",
    "model = tf.keras.Sequential()\n",
    "# Adds a densely-connected layer with 64 units to the model:\n",
    "model.add(layers.Dense(64, activation='relu'))\n",
    "# Add another:\n",
    "model.add(layers.Dense(64, activation='relu'))\n",
    "# Add a softmax layer with 10 output units:\n",
    "model.add(layers.Dense(10, activation='softmax'))\n",
    "#아담옵티마이저 사용, 러닝레이트 = 0.001, loss = , accuracy = 내가 킵하고 싶은 정보(현재 내 머신이 얼마나 잘되고있는지 살펴보려는용도)\n",
    "# accuracy = 프레딕션과 레이블이 얼마나 맞는지\n",
    "model.compile(optimizer=tf.keras.optimizers.Adam(0.001),loss='categorical_crossentropy',metrics=['accuracy'])\n",
    "\n",
    "import numpy as np\n",
    "#천개의 데이터의 크기가 32인벡터\n",
    "data = np.random.random((1000, 32))\n",
    "labels = np.random.random((1000, 10))\n",
    "#validaation data 추가 - 내가 잘 학습되고있는지를 확인할 수 있다.\n",
    "val_data = np.random.random((100, 32))\n",
    "val_labels = np.random.random((100, 10))\n",
    "\n",
    "#트레인시키자, 배치사이즈 = 32개씩가져와라\n",
    "# model.fit(data, labels, epochs=10, batch_size=32,validation_data=(val_data, val_labels))\n",
    "\n",
    "dataset = tf.data.Dataset.from_tensor_slices((data, labels))\n",
    "dataset = dataset.batch(32)\n",
    "\n",
    "model.fit(dataset, epochs=10)\n",
    "\n",
    "model.evaluate(val_data, val_labels, batch_size=32) \n",
    "result = model.predict(data, batch_size=32)\n",
    "print(result.shape)"
   ]
  },
  {
   "cell_type": "code",
   "execution_count": null,
   "metadata": {},
   "outputs": [],
   "source": []
  }
 ],
 "metadata": {
  "kernelspec": {
   "display_name": "Python 3",
   "language": "python",
   "name": "python3"
  },
  "language_info": {
   "codemirror_mode": {
    "name": "ipython",
    "version": 3
   },
   "file_extension": ".py",
   "mimetype": "text/x-python",
   "name": "python",
   "nbconvert_exporter": "python",
   "pygments_lexer": "ipython3",
   "version": "3.7.9"
  }
 },
 "nbformat": 4,
 "nbformat_minor": 4
}
