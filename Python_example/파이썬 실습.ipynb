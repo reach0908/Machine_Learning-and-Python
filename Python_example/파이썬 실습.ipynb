{
 "cells": [
  {
   "cell_type": "code",
   "execution_count": 19,
   "metadata": {},
   "outputs": [
    {
     "name": "stdout",
     "output_type": "stream",
     "text": [
      "이름 :김진호\n",
      "학번 :20150401\n",
      "이름: 김진호\n",
      "학번: 20150401\n"
     ]
    }
   ],
   "source": [
    "name = input('이름 :')\n",
    "univ_Id = input('학번 :')\n",
    "print('이름:',name)\n",
    "print('학번:',univ_Id)"
   ]
  },
  {
   "cell_type": "code",
   "execution_count": 18,
   "metadata": {},
   "outputs": [
    {
     "name": "stdout",
     "output_type": "stream",
     "text": [
      "택배 배송을 위한 정보를 입력하세요.\n",
      "1)  받는 분 이름:김진호\n",
      "2)  받는 분 연락처:010-8234-7688\n",
      "3)  받는 분 주소서울특별시 동작구 상도동 507-15 206호\n",
      "4)  배송 메시지:비가 오니 조심히 와주세요.\n",
      "\n",
      "아래 정보로 배송하겠습니다.\n",
      "==================================\n",
      "- 받는 분 이름: 김진호\n",
      "- 받는 분 연락처: 010-8234-7688\n",
      "- 받는 분 주소: 서울특별시 동작구 상도동 507-15 206호\n",
      "- 배송 메시지: 비가 오니 조심히 와주세요.\n",
      "==================================\n"
     ]
    }
   ],
   "source": [
    "print('택배 배송을 위한 정보를 입력하세요.')\n",
    "name = input('1)  받는 분 이름:')\n",
    "phone = input('2)  받는 분 연락처:')\n",
    "address = input('3)  받는 분 주소')\n",
    "message = input('4)  배송 메시지:')\n",
    "print('')\n",
    "print('아래 정보로 배송하겠습니다.')\n",
    "print('==================================')\n",
    "print('- 받는 분 이름:',name)\n",
    "print('- 받는 분 연락처:',phone)\n",
    "print('- 받는 분 주소:',address)\n",
    "print('- 배송 메시지:',message)\n",
    "print('==================================')"
   ]
  },
  {
   "cell_type": "code",
   "execution_count": 1,
   "metadata": {},
   "outputs": [
    {
     "name": "stdout",
     "output_type": "stream",
     "text": [
      "## 안나와 신후의 가위, 바위, 보 게임 ##\n",
      "안나를 위한 가위, 바위, 보를 입력하세요 :\n",
      "신후를 위한 가위, 바위, 보를 입력하세요 :\n",
      "안나 값 입력 오류 -> \n"
     ]
    }
   ],
   "source": [
    "print(\"## 안나와 신후의 가위, 바위, 보 게임 ##\")\n",
    "anna = input(\"안나를 위한 가위, 바위, 보를 입력하세요 :\") \n",
    "sinhu = input(\"신후를 위한 가위, 바위, 보를 입력하세요 :\") \n",
    "if anna == '가위':\n",
    "    if sinhu=='바위':\n",
    "         print(\"신후 승리\")\n",
    "    elif sinhu=='보':\n",
    "        print(\"안나 승리\")\n",
    "    elif sinhu=='가위':\n",
    "        print(\"무승부\")\n",
    "    else:\n",
    "        print(\"신후 값 입력 오류 ->\",sinhu)\n",
    "elif anna == '바위':\n",
    "    if sinhu=='보':\n",
    "         print(\"신후 승리\")\n",
    "    elif sinhu=='가위':\n",
    "        print(\"안나 승리\")\n",
    "    elif sinhu=='바위':\n",
    "        print(\"무승부\")\n",
    "    else:\n",
    "        print(\"신후 값 입력 오류 ->\",sinhu)\n",
    "elif anna == '보':\n",
    "    if sinhu=='가위':\n",
    "         print(\"신후 승리\")\n",
    "    elif sinhu=='바위':\n",
    "        print(\"안나 승리\")\n",
    "    elif sinhu=='보':\n",
    "        print(\"무승부\")\n",
    "    else:\n",
    "        print(\"신후 값 입력 오류 ->\",sinhu)\n",
    "else:\n",
    "    print(\"안나 값 입력 오류 ->\",anna)\n",
    "    "
   ]
  },
  {
   "cell_type": "code",
   "execution_count": 1,
   "metadata": {
    "scrolled": true
   },
   "outputs": [
    {
     "name": "stdout",
     "output_type": "stream",
     "text": [
      "1~100의 합계를 최초로 1000이 넘는 숫자 :45\n"
     ]
    }
   ],
   "source": [
    "hap, i=0,0\n",
    "while hap<=1000:\n",
    "    i=i+1\n",
    "    hap += i\n",
    "print(\"1~100의 합계를 최초로 1000이 넘는 숫자 :%d\" %i);"
   ]
  },
  {
   "cell_type": "code",
   "execution_count": 13,
   "metadata": {},
   "outputs": [
    {
     "name": "stdout",
     "output_type": "stream",
     "text": [
      "[['가위', '가위'], ['가위', '바위'], ['가위', '보'], ['바위', '가위'], ['바위', '바위'], ['바위', '보'], ['보', '가위'], ['보', '바위'], ['보', '보']]\n"
     ]
    }
   ],
   "source": [
    "list1 =['가위','바위','보']\n",
    "list2 = []\n",
    "result = []\n",
    "i=0\n",
    "for i in range(0,3) :\n",
    "    j=0\n",
    "    for j in range(0,3) :\n",
    "        result = [];\n",
    "        result.append(list1[i])\n",
    "        result.append(list1[j])\n",
    "        list2.append(result)\n",
    "print(list2)"
   ]
  },
  {
   "cell_type": "code",
   "execution_count": 12,
   "metadata": {},
   "outputs": [
    {
     "name": "stdout",
     "output_type": "stream",
     "text": [
      "문자열을 입력하세요 .civic\n",
      "회문입니다.\n"
     ]
    }
   ],
   "source": [
    "strInput = input(\"문자열을 입력하세요 .\")\n",
    "isPalin = True\n",
    "strlen = len(strInput)\n",
    "for i in range(0,strlen):\n",
    "    if strInput[i]!=strInput[strlen-(i+1)]:\n",
    "        isPalin = False\n",
    "if isPalin == False:\n",
    "    print(\"회문이 아닙니다.\")\n",
    "else:\n",
    "    print(\"회문입니다.\")  "
   ]
  },
  {
   "cell_type": "code",
   "execution_count": 1,
   "metadata": {},
   "outputs": [
    {
     "ename": "KeyboardInterrupt",
     "evalue": "Interrupted by user",
     "output_type": "error",
     "traceback": [
      "\u001b[1;31m---------------------------------------------------------------------------\u001b[0m",
      "\u001b[1;31mKeyboardInterrupt\u001b[0m                         Traceback (most recent call last)",
      "\u001b[1;32m<ipython-input-1-2e748b885d1c>\u001b[0m in \u001b[0;36m<module>\u001b[1;34m\u001b[0m\n\u001b[0;32m     20\u001b[0m             \u001b[0mcnt\u001b[0m \u001b[1;33m=\u001b[0m \u001b[0mcnt\u001b[0m\u001b[1;33m+\u001b[0m\u001b[1;36m1\u001b[0m\u001b[1;33m\u001b[0m\u001b[1;33m\u001b[0m\u001b[0m\n\u001b[0;32m     21\u001b[0m     \u001b[1;32mreturn\u001b[0m \u001b[0mcnt\u001b[0m\u001b[1;33m\u001b[0m\u001b[1;33m\u001b[0m\u001b[0m\n\u001b[1;32m---> 22\u001b[1;33m \u001b[0mstrInput\u001b[0m \u001b[1;33m=\u001b[0m \u001b[0minput\u001b[0m\u001b[1;33m(\u001b[0m\u001b[1;34m\"문자열을 입력하세요 .\"\u001b[0m\u001b[1;33m)\u001b[0m\u001b[1;33m\u001b[0m\u001b[1;33m\u001b[0m\u001b[0m\n\u001b[0m\u001b[0;32m     23\u001b[0m print(\"digits :\" + str(checkDigits(strInput)) + \" spaces : \"+ str(checkSpaces(strInput)) + \" alphas :\"\n\u001b[0;32m     24\u001b[0m      + str(checkAlphas(strInput)))\n",
      "\u001b[1;32m~\\Anaconda3\\lib\\site-packages\\ipykernel\\kernelbase.py\u001b[0m in \u001b[0;36mraw_input\u001b[1;34m(self, prompt)\u001b[0m\n\u001b[0;32m    858\u001b[0m                 \u001b[1;34m\"raw_input was called, but this frontend does not support input requests.\"\u001b[0m\u001b[1;33m\u001b[0m\u001b[1;33m\u001b[0m\u001b[0m\n\u001b[0;32m    859\u001b[0m             )\n\u001b[1;32m--> 860\u001b[1;33m         return self._input_request(str(prompt),\n\u001b[0m\u001b[0;32m    861\u001b[0m             \u001b[0mself\u001b[0m\u001b[1;33m.\u001b[0m\u001b[0m_parent_ident\u001b[0m\u001b[1;33m,\u001b[0m\u001b[1;33m\u001b[0m\u001b[1;33m\u001b[0m\u001b[0m\n\u001b[0;32m    862\u001b[0m             \u001b[0mself\u001b[0m\u001b[1;33m.\u001b[0m\u001b[0m_parent_header\u001b[0m\u001b[1;33m,\u001b[0m\u001b[1;33m\u001b[0m\u001b[1;33m\u001b[0m\u001b[0m\n",
      "\u001b[1;32m~\\Anaconda3\\lib\\site-packages\\ipykernel\\kernelbase.py\u001b[0m in \u001b[0;36m_input_request\u001b[1;34m(self, prompt, ident, parent, password)\u001b[0m\n\u001b[0;32m    902\u001b[0m             \u001b[1;32mexcept\u001b[0m \u001b[0mKeyboardInterrupt\u001b[0m\u001b[1;33m:\u001b[0m\u001b[1;33m\u001b[0m\u001b[1;33m\u001b[0m\u001b[0m\n\u001b[0;32m    903\u001b[0m                 \u001b[1;31m# re-raise KeyboardInterrupt, to truncate traceback\u001b[0m\u001b[1;33m\u001b[0m\u001b[1;33m\u001b[0m\u001b[1;33m\u001b[0m\u001b[0m\n\u001b[1;32m--> 904\u001b[1;33m                 \u001b[1;32mraise\u001b[0m \u001b[0mKeyboardInterrupt\u001b[0m\u001b[1;33m(\u001b[0m\u001b[1;34m\"Interrupted by user\"\u001b[0m\u001b[1;33m)\u001b[0m \u001b[1;32mfrom\u001b[0m \u001b[1;32mNone\u001b[0m\u001b[1;33m\u001b[0m\u001b[1;33m\u001b[0m\u001b[0m\n\u001b[0m\u001b[0;32m    905\u001b[0m             \u001b[1;32mexcept\u001b[0m \u001b[0mException\u001b[0m \u001b[1;32mas\u001b[0m \u001b[0me\u001b[0m\u001b[1;33m:\u001b[0m\u001b[1;33m\u001b[0m\u001b[1;33m\u001b[0m\u001b[0m\n\u001b[0;32m    906\u001b[0m                 \u001b[0mself\u001b[0m\u001b[1;33m.\u001b[0m\u001b[0mlog\u001b[0m\u001b[1;33m.\u001b[0m\u001b[0mwarning\u001b[0m\u001b[1;33m(\u001b[0m\u001b[1;34m\"Invalid Message:\"\u001b[0m\u001b[1;33m,\u001b[0m \u001b[0mexc_info\u001b[0m\u001b[1;33m=\u001b[0m\u001b[1;32mTrue\u001b[0m\u001b[1;33m)\u001b[0m\u001b[1;33m\u001b[0m\u001b[1;33m\u001b[0m\u001b[0m\n",
      "\u001b[1;31mKeyboardInterrupt\u001b[0m: Interrupted by user"
     ]
    }
   ],
   "source": [
    "def checkDigits(inputStr):\n",
    "    strlen = len(inputStr)\n",
    "    cnt = 0\n",
    "    for i in range(0,strlen):\n",
    "        if(48<=ord(inputStr[i])<=57):\n",
    "            cnt = cnt+1\n",
    "    return cnt\n",
    "def checkSpaces(inputStr):\n",
    "    strlen = len(inputStr)\n",
    "    cnt = 0\n",
    "    for i in range(0,strlen):\n",
    "        if(inputStr[i]==\" \"):\n",
    "            cnt = cnt+1\n",
    "    return cnt\n",
    "def checkAlphas(inputStr):\n",
    "    strlen = len(inputStr)\n",
    "    cnt = 0\n",
    "    for i in range(0,strlen):\n",
    "        if(65<=ord(inputStr[i])<=122):\n",
    "            cnt = cnt+1\n",
    "    return cnt\n",
    "strInput = input(\"문자열을 입력하세요 .\")\n",
    "print(\"digits :\" + str(checkDigits(strInput)) + \" spaces : \"+ str(checkSpaces(strInput)) + \" alphas :\"\n",
    "     + str(checkAlphas(strInput)))\n"
   ]
  },
  {
   "cell_type": "code",
   "execution_count": 16,
   "metadata": {},
   "outputs": [
    {
     "name": "stdout",
     "output_type": "stream",
     "text": [
      "#단일 품목\n",
      "laptop\n",
      "camera\n",
      "charger\n",
      "\n",
      "\n",
      "#다중 품목\n"
     ]
    },
    {
     "ename": "KeyError",
     "evalue": "0",
     "output_type": "error",
     "traceback": [
      "\u001b[1;31m---------------------------------------------------------------------------\u001b[0m",
      "\u001b[1;31mKeyError\u001b[0m                                  Traceback (most recent call last)",
      "\u001b[1;32m<ipython-input-16-844ac2c17ed7>\u001b[0m in \u001b[0;36m<module>\u001b[1;34m\u001b[0m\n\u001b[0;32m     10\u001b[0m         \u001b[0mprint\u001b[0m\u001b[1;33m(\u001b[0m\u001b[0mmulti\u001b[0m\u001b[1;33m[\u001b[0m\u001b[0mj\u001b[0m\u001b[1;33m]\u001b[0m\u001b[1;33m.\u001b[0m\u001b[0mname\u001b[0m \u001b[1;33m+\u001b[0m \u001b[1;34m' '\u001b[0m \u001b[1;33m+\u001b[0m \u001b[0mmulti\u001b[0m\u001b[1;33m[\u001b[0m\u001b[0mj\u001b[0m\u001b[1;33m]\u001b[0m \u001b[1;33m+\u001b[0m \u001b[1;34m'개'\u001b[0m\u001b[1;33m)\u001b[0m\u001b[1;33m\u001b[0m\u001b[1;33m\u001b[0m\u001b[0m\n\u001b[0;32m     11\u001b[0m \u001b[1;33m\u001b[0m\u001b[0m\n\u001b[1;32m---> 12\u001b[1;33m \u001b[0mprint_baggage_items\u001b[0m\u001b[1;33m(\u001b[0m\u001b[1;34m'laptop'\u001b[0m\u001b[1;33m,\u001b[0m\u001b[1;34m'camera'\u001b[0m\u001b[1;33m,\u001b[0m\u001b[1;34m'charger'\u001b[0m\u001b[1;33m,\u001b[0m\u001b[0msocks\u001b[0m\u001b[1;33m=\u001b[0m\u001b[1;36m8\u001b[0m\u001b[1;33m,\u001b[0m\u001b[0mpants\u001b[0m\u001b[1;33m=\u001b[0m\u001b[1;36m2\u001b[0m\u001b[1;33m,\u001b[0m\u001b[0mshirts\u001b[0m\u001b[1;33m=\u001b[0m\u001b[1;36m4\u001b[0m\u001b[1;33m)\u001b[0m\u001b[1;33m\u001b[0m\u001b[1;33m\u001b[0m\u001b[0m\n\u001b[0m",
      "\u001b[1;32m<ipython-input-16-844ac2c17ed7>\u001b[0m in \u001b[0;36mprint_baggage_items\u001b[1;34m(*single, **multi)\u001b[0m\n\u001b[0;32m      8\u001b[0m     \u001b[0mprint\u001b[0m\u001b[1;33m(\u001b[0m\u001b[1;34m'#다중 품목'\u001b[0m\u001b[1;33m)\u001b[0m\u001b[1;33m\u001b[0m\u001b[1;33m\u001b[0m\u001b[0m\n\u001b[0;32m      9\u001b[0m     \u001b[1;32mfor\u001b[0m \u001b[0mj\u001b[0m \u001b[1;32min\u001b[0m \u001b[0mrange\u001b[0m\u001b[1;33m(\u001b[0m\u001b[1;36m0\u001b[0m\u001b[1;33m,\u001b[0m\u001b[0mlen\u001b[0m\u001b[1;33m(\u001b[0m\u001b[0mmulti\u001b[0m\u001b[1;33m)\u001b[0m\u001b[1;33m)\u001b[0m\u001b[1;33m:\u001b[0m\u001b[1;33m\u001b[0m\u001b[1;33m\u001b[0m\u001b[0m\n\u001b[1;32m---> 10\u001b[1;33m         \u001b[0mprint\u001b[0m\u001b[1;33m(\u001b[0m\u001b[0mmulti\u001b[0m\u001b[1;33m[\u001b[0m\u001b[0mj\u001b[0m\u001b[1;33m]\u001b[0m\u001b[1;33m.\u001b[0m\u001b[0mname\u001b[0m \u001b[1;33m+\u001b[0m \u001b[1;34m' '\u001b[0m \u001b[1;33m+\u001b[0m \u001b[0mmulti\u001b[0m\u001b[1;33m[\u001b[0m\u001b[0mj\u001b[0m\u001b[1;33m]\u001b[0m \u001b[1;33m+\u001b[0m \u001b[1;34m'개'\u001b[0m\u001b[1;33m)\u001b[0m\u001b[1;33m\u001b[0m\u001b[1;33m\u001b[0m\u001b[0m\n\u001b[0m\u001b[0;32m     11\u001b[0m \u001b[1;33m\u001b[0m\u001b[0m\n\u001b[0;32m     12\u001b[0m \u001b[0mprint_baggage_items\u001b[0m\u001b[1;33m(\u001b[0m\u001b[1;34m'laptop'\u001b[0m\u001b[1;33m,\u001b[0m\u001b[1;34m'camera'\u001b[0m\u001b[1;33m,\u001b[0m\u001b[1;34m'charger'\u001b[0m\u001b[1;33m,\u001b[0m\u001b[0msocks\u001b[0m\u001b[1;33m=\u001b[0m\u001b[1;36m8\u001b[0m\u001b[1;33m,\u001b[0m\u001b[0mpants\u001b[0m\u001b[1;33m=\u001b[0m\u001b[1;36m2\u001b[0m\u001b[1;33m,\u001b[0m\u001b[0mshirts\u001b[0m\u001b[1;33m=\u001b[0m\u001b[1;36m4\u001b[0m\u001b[1;33m)\u001b[0m\u001b[1;33m\u001b[0m\u001b[1;33m\u001b[0m\u001b[0m\n",
      "\u001b[1;31mKeyError\u001b[0m: 0"
     ]
    }
   ],
   "source": [
    "def print_baggage_items(*single, **multi_value):\n",
    "    \n",
    "    print('#단일 품목')\n",
    "    for item in single:\n",
    "        print(item)\n",
    "        \n",
    "    print('\\n')\n",
    "    print('#다중 품목')\n",
    "    for multi, value in multi_va:\n",
    "        print(multi[j].name + ' ' + multi[j] + '개')\n",
    "        \n",
    "print_baggage_items('laptop','camera','charger',socks=8,pants=2,shirts=4)"
   ]
  }
 ],
 "metadata": {
  "kernelspec": {
   "display_name": "Python 3",
   "language": "python",
   "name": "python3"
  },
  "language_info": {
   "codemirror_mode": {
    "name": "ipython",
    "version": 3
   },
   "file_extension": ".py",
   "mimetype": "text/x-python",
   "name": "python",
   "nbconvert_exporter": "python",
   "pygments_lexer": "ipython3",
   "version": "3.8.3"
  }
 },
 "nbformat": 4,
 "nbformat_minor": 4
}
