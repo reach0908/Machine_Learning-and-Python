{
 "cells": [
  {
   "cell_type": "code",
   "execution_count": 19,
   "metadata": {},
   "outputs": [
    {
     "name": "stdout",
     "output_type": "stream",
     "text": [
      "이름 :김진호\n",
      "학번 :20150401\n",
      "이름: 김진호\n",
      "학번: 20150401\n"
     ]
    }
   ],
   "source": [
    "name = input('이름 :')\n",
    "univ_Id = input('학번 :')\n",
    "print('이름:',name)\n",
    "print('학번:',univ_Id)"
   ]
  },
  {
   "cell_type": "code",
   "execution_count": 18,
   "metadata": {},
   "outputs": [
    {
     "name": "stdout",
     "output_type": "stream",
     "text": [
      "택배 배송을 위한 정보를 입력하세요.\n",
      "1)  받는 분 이름:김진호\n",
      "2)  받는 분 연락처:010-8234-7688\n",
      "3)  받는 분 주소서울특별시 동작구 상도동 507-15 206호\n",
      "4)  배송 메시지:비가 오니 조심히 와주세요.\n",
      "\n",
      "아래 정보로 배송하겠습니다.\n",
      "==================================\n",
      "- 받는 분 이름: 김진호\n",
      "- 받는 분 연락처: 010-8234-7688\n",
      "- 받는 분 주소: 서울특별시 동작구 상도동 507-15 206호\n",
      "- 배송 메시지: 비가 오니 조심히 와주세요.\n",
      "==================================\n"
     ]
    }
   ],
   "source": [
    "print('택배 배송을 위한 정보를 입력하세요.')\n",
    "name = input('1)  받는 분 이름:')\n",
    "phone = input('2)  받는 분 연락처:')\n",
    "address = input('3)  받는 분 주소')\n",
    "message = input('4)  배송 메시지:')\n",
    "print('')\n",
    "print('아래 정보로 배송하겠습니다.')\n",
    "print('==================================')\n",
    "print('- 받는 분 이름:',name)\n",
    "print('- 받는 분 연락처:',phone)\n",
    "print('- 받는 분 주소:',address)\n",
    "print('- 배송 메시지:',message)\n",
    "print('==================================')"
   ]
  },
  {
   "cell_type": "code",
   "execution_count": null,
   "metadata": {},
   "outputs": [],
   "source": [
    "print(\"## 안나와 신후의 가위, 바위, 보 게임 ##\")\n",
    "anna = input(\"안나를 위한 가위, 바위, 보를 입력하세요 :\") \n",
    "sinhu = input(\"신후를 위한 가위, 바위, 보를 입력하세요 :\") \n",
    "if anna == '가위':\n",
    "    if sinhu=='바위':\n",
    "         print(\"신후 승리\")\n",
    "    elif sinhu=='보':\n",
    "        print(\"안나 승리\")\n",
    "    elif sinhu=='가위':\n",
    "        print(\"무승부\")\n",
    "    else:\n",
    "        print(\"신후 값 입력 오류 ->\",sinhu)\n",
    "elif anna == '바위':\n",
    "    if sinhu=='보':\n",
    "         print(\"신후 승리\")\n",
    "    elif sinhu=='가위':\n",
    "        print(\"안나 승리\")\n",
    "    elif sinhu=='바위':\n",
    "        print(\"무승부\")\n",
    "    else:\n",
    "        print(\"신후 값 입력 오류 ->\",sinhu)\n",
    "elif anna == '보':\n",
    "    if sinhu=='가위':\n",
    "         print(\"신후 승리\")\n",
    "    elif sinhu=='바위':\n",
    "        print(\"안나 승리\")\n",
    "    elif sinhu=='보':\n",
    "        print(\"무승부\")\n",
    "    else:\n",
    "        print(\"신후 값 입력 오류 ->\",sinhu)\n",
    "else:\n",
    "    print(\"안나 값 입력 오류 ->\",anna)\n",
    "    "
   ]
  }
 ],
 "metadata": {
  "kernelspec": {
   "display_name": "Python 3",
   "language": "python",
   "name": "python3"
  }
 },
 "nbformat": 4,
 "nbformat_minor": 4
}
